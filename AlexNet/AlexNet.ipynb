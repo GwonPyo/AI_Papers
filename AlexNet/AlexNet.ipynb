{
  "nbformat": 4,
  "nbformat_minor": 0,
  "metadata": {
    "colab": {
      "name": "AlexNet.ipynb",
      "provenance": [],
      "collapsed_sections": []
    },
    "kernelspec": {
      "name": "python3",
      "display_name": "Python 3"
    },
    "language_info": {
      "name": "python"
    },
    "accelerator": "GPU",
    "widgets": {
      "application/vnd.jupyter.widget-state+json": {
        "9d90478853424bbd81a26aa14fb94bc4": {
          "model_module": "@jupyter-widgets/controls",
          "model_name": "HBoxModel",
          "model_module_version": "1.5.0",
          "state": {
            "_view_name": "HBoxView",
            "_dom_classes": [],
            "_model_name": "HBoxModel",
            "_view_module": "@jupyter-widgets/controls",
            "_model_module_version": "1.5.0",
            "_view_count": null,
            "_view_module_version": "1.5.0",
            "box_style": "",
            "layout": "IPY_MODEL_9497efbe184a4ab486cd478660f50258",
            "_model_module": "@jupyter-widgets/controls",
            "children": [
              "IPY_MODEL_eca33707e84946d091fcb02dd510484a",
              "IPY_MODEL_c7c8b2ddc67247a4a1f1083c8d213756",
              "IPY_MODEL_824d2be4396349288df3ad6e0dca758d"
            ]
          }
        },
        "9497efbe184a4ab486cd478660f50258": {
          "model_module": "@jupyter-widgets/base",
          "model_name": "LayoutModel",
          "model_module_version": "1.2.0",
          "state": {
            "_view_name": "LayoutView",
            "grid_template_rows": null,
            "right": null,
            "justify_content": null,
            "_view_module": "@jupyter-widgets/base",
            "overflow": null,
            "_model_module_version": "1.2.0",
            "_view_count": null,
            "flex_flow": null,
            "width": null,
            "min_width": null,
            "border": null,
            "align_items": null,
            "bottom": null,
            "_model_module": "@jupyter-widgets/base",
            "top": null,
            "grid_column": null,
            "overflow_y": null,
            "overflow_x": null,
            "grid_auto_flow": null,
            "grid_area": null,
            "grid_template_columns": null,
            "flex": null,
            "_model_name": "LayoutModel",
            "justify_items": null,
            "grid_row": null,
            "max_height": null,
            "align_content": null,
            "visibility": null,
            "align_self": null,
            "height": null,
            "min_height": null,
            "padding": null,
            "grid_auto_rows": null,
            "grid_gap": null,
            "max_width": null,
            "order": null,
            "_view_module_version": "1.2.0",
            "grid_template_areas": null,
            "object_position": null,
            "object_fit": null,
            "grid_auto_columns": null,
            "margin": null,
            "display": null,
            "left": null
          }
        },
        "eca33707e84946d091fcb02dd510484a": {
          "model_module": "@jupyter-widgets/controls",
          "model_name": "HTMLModel",
          "model_module_version": "1.5.0",
          "state": {
            "_view_name": "HTMLView",
            "style": "IPY_MODEL_2b923ece33e1403c9af7afed76398ec9",
            "_dom_classes": [],
            "description": "",
            "_model_name": "HTMLModel",
            "placeholder": "​",
            "_view_module": "@jupyter-widgets/controls",
            "_model_module_version": "1.5.0",
            "value": "100%",
            "_view_count": null,
            "_view_module_version": "1.5.0",
            "description_tooltip": null,
            "_model_module": "@jupyter-widgets/controls",
            "layout": "IPY_MODEL_5bea4970435c411b886837093804a661"
          }
        },
        "c7c8b2ddc67247a4a1f1083c8d213756": {
          "model_module": "@jupyter-widgets/controls",
          "model_name": "FloatProgressModel",
          "model_module_version": "1.5.0",
          "state": {
            "_view_name": "ProgressView",
            "style": "IPY_MODEL_26314fbfc8ba4f25b334d87370aa5c17",
            "_dom_classes": [],
            "description": "",
            "_model_name": "FloatProgressModel",
            "bar_style": "success",
            "max": 30,
            "_view_module": "@jupyter-widgets/controls",
            "_model_module_version": "1.5.0",
            "value": 30,
            "_view_count": null,
            "_view_module_version": "1.5.0",
            "orientation": "horizontal",
            "min": 0,
            "description_tooltip": null,
            "_model_module": "@jupyter-widgets/controls",
            "layout": "IPY_MODEL_267dc76ad496400a86e3a8b54dfa8e3c"
          }
        },
        "824d2be4396349288df3ad6e0dca758d": {
          "model_module": "@jupyter-widgets/controls",
          "model_name": "HTMLModel",
          "model_module_version": "1.5.0",
          "state": {
            "_view_name": "HTMLView",
            "style": "IPY_MODEL_314ebf8c81a140ceb4044a913a9760d2",
            "_dom_classes": [],
            "description": "",
            "_model_name": "HTMLModel",
            "placeholder": "​",
            "_view_module": "@jupyter-widgets/controls",
            "_model_module_version": "1.5.0",
            "value": " 30/30 [1:08:28&lt;00:00, 135.29s/it]",
            "_view_count": null,
            "_view_module_version": "1.5.0",
            "description_tooltip": null,
            "_model_module": "@jupyter-widgets/controls",
            "layout": "IPY_MODEL_11165d291c934d79895e61347f01b410"
          }
        },
        "2b923ece33e1403c9af7afed76398ec9": {
          "model_module": "@jupyter-widgets/controls",
          "model_name": "DescriptionStyleModel",
          "model_module_version": "1.5.0",
          "state": {
            "_view_name": "StyleView",
            "_model_name": "DescriptionStyleModel",
            "description_width": "",
            "_view_module": "@jupyter-widgets/base",
            "_model_module_version": "1.5.0",
            "_view_count": null,
            "_view_module_version": "1.2.0",
            "_model_module": "@jupyter-widgets/controls"
          }
        },
        "5bea4970435c411b886837093804a661": {
          "model_module": "@jupyter-widgets/base",
          "model_name": "LayoutModel",
          "model_module_version": "1.2.0",
          "state": {
            "_view_name": "LayoutView",
            "grid_template_rows": null,
            "right": null,
            "justify_content": null,
            "_view_module": "@jupyter-widgets/base",
            "overflow": null,
            "_model_module_version": "1.2.0",
            "_view_count": null,
            "flex_flow": null,
            "width": null,
            "min_width": null,
            "border": null,
            "align_items": null,
            "bottom": null,
            "_model_module": "@jupyter-widgets/base",
            "top": null,
            "grid_column": null,
            "overflow_y": null,
            "overflow_x": null,
            "grid_auto_flow": null,
            "grid_area": null,
            "grid_template_columns": null,
            "flex": null,
            "_model_name": "LayoutModel",
            "justify_items": null,
            "grid_row": null,
            "max_height": null,
            "align_content": null,
            "visibility": null,
            "align_self": null,
            "height": null,
            "min_height": null,
            "padding": null,
            "grid_auto_rows": null,
            "grid_gap": null,
            "max_width": null,
            "order": null,
            "_view_module_version": "1.2.0",
            "grid_template_areas": null,
            "object_position": null,
            "object_fit": null,
            "grid_auto_columns": null,
            "margin": null,
            "display": null,
            "left": null
          }
        },
        "26314fbfc8ba4f25b334d87370aa5c17": {
          "model_module": "@jupyter-widgets/controls",
          "model_name": "ProgressStyleModel",
          "model_module_version": "1.5.0",
          "state": {
            "_view_name": "StyleView",
            "_model_name": "ProgressStyleModel",
            "description_width": "",
            "_view_module": "@jupyter-widgets/base",
            "_model_module_version": "1.5.0",
            "_view_count": null,
            "_view_module_version": "1.2.0",
            "bar_color": null,
            "_model_module": "@jupyter-widgets/controls"
          }
        },
        "267dc76ad496400a86e3a8b54dfa8e3c": {
          "model_module": "@jupyter-widgets/base",
          "model_name": "LayoutModel",
          "model_module_version": "1.2.0",
          "state": {
            "_view_name": "LayoutView",
            "grid_template_rows": null,
            "right": null,
            "justify_content": null,
            "_view_module": "@jupyter-widgets/base",
            "overflow": null,
            "_model_module_version": "1.2.0",
            "_view_count": null,
            "flex_flow": null,
            "width": null,
            "min_width": null,
            "border": null,
            "align_items": null,
            "bottom": null,
            "_model_module": "@jupyter-widgets/base",
            "top": null,
            "grid_column": null,
            "overflow_y": null,
            "overflow_x": null,
            "grid_auto_flow": null,
            "grid_area": null,
            "grid_template_columns": null,
            "flex": null,
            "_model_name": "LayoutModel",
            "justify_items": null,
            "grid_row": null,
            "max_height": null,
            "align_content": null,
            "visibility": null,
            "align_self": null,
            "height": null,
            "min_height": null,
            "padding": null,
            "grid_auto_rows": null,
            "grid_gap": null,
            "max_width": null,
            "order": null,
            "_view_module_version": "1.2.0",
            "grid_template_areas": null,
            "object_position": null,
            "object_fit": null,
            "grid_auto_columns": null,
            "margin": null,
            "display": null,
            "left": null
          }
        },
        "314ebf8c81a140ceb4044a913a9760d2": {
          "model_module": "@jupyter-widgets/controls",
          "model_name": "DescriptionStyleModel",
          "model_module_version": "1.5.0",
          "state": {
            "_view_name": "StyleView",
            "_model_name": "DescriptionStyleModel",
            "description_width": "",
            "_view_module": "@jupyter-widgets/base",
            "_model_module_version": "1.5.0",
            "_view_count": null,
            "_view_module_version": "1.2.0",
            "_model_module": "@jupyter-widgets/controls"
          }
        },
        "11165d291c934d79895e61347f01b410": {
          "model_module": "@jupyter-widgets/base",
          "model_name": "LayoutModel",
          "model_module_version": "1.2.0",
          "state": {
            "_view_name": "LayoutView",
            "grid_template_rows": null,
            "right": null,
            "justify_content": null,
            "_view_module": "@jupyter-widgets/base",
            "overflow": null,
            "_model_module_version": "1.2.0",
            "_view_count": null,
            "flex_flow": null,
            "width": null,
            "min_width": null,
            "border": null,
            "align_items": null,
            "bottom": null,
            "_model_module": "@jupyter-widgets/base",
            "top": null,
            "grid_column": null,
            "overflow_y": null,
            "overflow_x": null,
            "grid_auto_flow": null,
            "grid_area": null,
            "grid_template_columns": null,
            "flex": null,
            "_model_name": "LayoutModel",
            "justify_items": null,
            "grid_row": null,
            "max_height": null,
            "align_content": null,
            "visibility": null,
            "align_self": null,
            "height": null,
            "min_height": null,
            "padding": null,
            "grid_auto_rows": null,
            "grid_gap": null,
            "max_width": null,
            "order": null,
            "_view_module_version": "1.2.0",
            "grid_template_areas": null,
            "object_position": null,
            "object_fit": null,
            "grid_auto_columns": null,
            "margin": null,
            "display": null,
            "left": null
          }
        }
      }
    }
  },
  "cells": [
    {
      "cell_type": "markdown",
      "source": [
        "데이터를 불러온다."
      ],
      "metadata": {
        "id": "xjP3A3LcjlrE"
      }
    },
    {
      "cell_type": "code",
      "execution_count": 2,
      "metadata": {
        "colab": {
          "base_uri": "https://localhost:8080/"
        },
        "id": "xKlkgI7fKWRi",
        "outputId": "631f9878-cf15-4263-9e70-9d719bcd7702"
      },
      "outputs": [
        {
          "output_type": "stream",
          "name": "stdout",
          "text": [
            "Files already downloaded and verified\n",
            "Files already downloaded and verified\n"
          ]
        }
      ],
      "source": [
        "from torchvision.transforms.transforms import RandomHorizontalFlip\n",
        "import torchvision.datasets as dsets\n",
        "import torchvision.transforms as transforms\n",
        "\n",
        "transform = transforms.Compose([transforms.ToTensor(),\n",
        "                                transforms.Resize(256),\n",
        "                                transforms.RandomCrop(227),\n",
        "                                transforms.RandomHorizontalFlip(),\n",
        "                                transforms.Normalize((0.5, 0.5, 0.5), (0.5, 0.5, 0.5))])\n",
        "\n",
        "train_data = dsets.CIFAR10(root='CIFAR10',\n",
        "                           train=True,\n",
        "                           transform=transform,\n",
        "                           download=True)\n",
        "\n",
        "test_data = dsets.CIFAR10(root='CIFAR10',\n",
        "                           train=False,\n",
        "                           transform=transform,\n",
        "                           download=True)"
      ]
    },
    {
      "cell_type": "markdown",
      "source": [
        "train data 크기, 형태를 확인한다."
      ],
      "metadata": {
        "id": "d_zbM8nmjoOr"
      }
    },
    {
      "cell_type": "code",
      "source": [
        "print('train data 개수:', len(train_data))\n",
        "print(train_data[0])"
      ],
      "metadata": {
        "colab": {
          "base_uri": "https://localhost:8080/"
        },
        "id": "u4MRjCY1OZcw",
        "outputId": "1f0e0d6b-4526-4bfa-a68b-9935711a922b"
      },
      "execution_count": 3,
      "outputs": [
        {
          "output_type": "stream",
          "name": "stdout",
          "text": [
            "train data 개수: 50000\n",
            "(tensor([[[-0.8443, -0.8166, -0.7888,  ..., -0.0619, -0.0618, -0.0617],\n",
            "         [-0.8241, -0.7945, -0.7649,  ..., -0.0650, -0.0642, -0.0633],\n",
            "         [-0.8038, -0.7723, -0.7409,  ..., -0.0681, -0.0665, -0.0649],\n",
            "         ...,\n",
            "         [ 0.4451,  0.4529,  0.4608,  ...,  0.1581,  0.0676, -0.0229],\n",
            "         [ 0.4225,  0.4324,  0.4422,  ...,  0.1868,  0.0984,  0.0100],\n",
            "         [ 0.4000,  0.4118,  0.4235,  ...,  0.2155,  0.1292,  0.0429]],\n",
            "\n",
            "        [[-0.9224, -0.9065, -0.8906,  ..., -0.3352, -0.3367, -0.3383],\n",
            "         [-0.9119, -0.8945, -0.8771,  ..., -0.3376, -0.3385, -0.3394],\n",
            "         [-0.9013, -0.8825, -0.8636,  ..., -0.3400, -0.3403, -0.3406],\n",
            "         ...,\n",
            "         [ 0.0797,  0.0964,  0.1130,  ..., -0.0990, -0.1882, -0.2775],\n",
            "         [ 0.0543,  0.0725,  0.0907,  ..., -0.0794, -0.1667, -0.2539],\n",
            "         [ 0.0289,  0.0487,  0.0685,  ..., -0.0598, -0.1451, -0.2304]],\n",
            "\n",
            "        [[-0.9865, -0.9811, -0.9757,  ..., -0.5994, -0.6009, -0.6025],\n",
            "         [-0.9841, -0.9777, -0.9713,  ..., -0.6028, -0.6037, -0.6046],\n",
            "         [-0.9816, -0.9743, -0.9669,  ..., -0.6062, -0.6065, -0.6068],\n",
            "         ...,\n",
            "         [-0.7165, -0.7271, -0.7376,  ..., -0.4709, -0.5307, -0.5904],\n",
            "         [-0.7099, -0.7210, -0.7320,  ..., -0.4465, -0.5059, -0.5652],\n",
            "         [-0.7033, -0.7148, -0.7263,  ..., -0.4220, -0.4810, -0.5400]]]), 6)\n"
          ]
        }
      ]
    },
    {
      "cell_type": "markdown",
      "source": [
        "이미지를 출력해본다."
      ],
      "metadata": {
        "id": "K1r1a4d2jsh2"
      }
    },
    {
      "cell_type": "code",
      "source": [
        "# train_data image 확인\n",
        "import matplotlib.pyplot as plt\n",
        "import numpy as np\n",
        "\n",
        "fig, axs = plt.subplots(1, 4, figsize = (8, 2))\n",
        "\n",
        "for i in range(4):\n",
        "  img = train_data[i][0].numpy()\n",
        "  axs[i].imshow(np.transpose(img, (1, 2, 0))) # 3, 224, 224 -> 224, 224, 3으로 size 변경\n",
        "  axs[i].axis('off')\n"
      ],
      "metadata": {
        "colab": {
          "base_uri": "https://localhost:8080/",
          "height": 201
        },
        "id": "GABFXwVkMrtI",
        "outputId": "97c8a1ed-7002-4e70-8ee7-59efdb7dd30b"
      },
      "execution_count": 4,
      "outputs": [
        {
          "output_type": "stream",
          "name": "stderr",
          "text": [
            "Clipping input data to the valid range for imshow with RGB data ([0..1] for floats or [0..255] for integers).\n",
            "Clipping input data to the valid range for imshow with RGB data ([0..1] for floats or [0..255] for integers).\n",
            "Clipping input data to the valid range for imshow with RGB data ([0..1] for floats or [0..255] for integers).\n",
            "Clipping input data to the valid range for imshow with RGB data ([0..1] for floats or [0..255] for integers).\n"
          ]
        },
        {
          "output_type": "display_data",
          "data": {
            "image/png": "[encoded data removed]",
            "text/plain": [
              "<Figure size 576x144 with 4 Axes>"
            ]
          },
          "metadata": {
            "needs_background": "light"
          }
        }
      ]
    },
    {
      "cell_type": "markdown",
      "source": [
        "Dataloader를 생성한다."
      ],
      "metadata": {
        "id": "01SRz4pCjyO9"
      }
    },
    {
      "cell_type": "code",
      "source": [
        "from torch.utils.data import DataLoader\n",
        "\n",
        "batch_size = 512\n",
        "train_loader = DataLoader(train_data, batch_size=batch_size, shuffle=True, drop_last=True)\n",
        "test_loader = DataLoader(test_data, batch_size=batch_size, shuffle=True)"
      ],
      "metadata": {
        "id": "1olWU20viusY"
      },
      "execution_count": 5,
      "outputs": []
    },
    {
      "cell_type": "markdown",
      "source": [
        "Dataloader가 잘 생성되었는지 확인한다.\n",
        "\n",
        "\n",
        "\n",
        "\n",
        "\n",
        "\n",
        "\n",
        "\n",
        "\n",
        "\n"
      ],
      "metadata": {
        "id": "ZKNPiGhxrIZG"
      }
    },
    {
      "cell_type": "code",
      "source": [
        "print(len(train_loader))"
      ],
      "metadata": {
        "colab": {
          "base_uri": "https://localhost:8080/"
        },
        "id": "WXaVEVunn5qc",
        "outputId": "c63c4fb0-e7a7-46aa-db6c-4f4c995dae94"
      },
      "execution_count": 6,
      "outputs": [
        {
          "output_type": "stream",
          "name": "stdout",
          "text": [
            "97\n"
          ]
        }
      ]
    },
    {
      "cell_type": "code",
      "source": [
        "for x, y in train_loader:\n",
        "  print(x[0], y[0])\n",
        "  print('image size:', x[0].shape)\n",
        "  break"
      ],
      "metadata": {
        "colab": {
          "base_uri": "https://localhost:8080/"
        },
        "id": "Qe73Wlx1q8gg",
        "outputId": "66c715bc-52a6-40c2-db1c-6fee6ad5d054"
      },
      "execution_count": 7,
      "outputs": [
        {
          "output_type": "stream",
          "name": "stdout",
          "text": [
            "tensor([[[ 0.0538,  0.0680,  0.0823,  ...,  0.5127,  0.5127,  0.5127],\n",
            "         [ 0.0424,  0.0583,  0.0742,  ...,  0.5186,  0.5186,  0.5186],\n",
            "         [ 0.0268,  0.0438,  0.0607,  ...,  0.5088,  0.5088,  0.5088],\n",
            "         ...,\n",
            "         [-0.2821, -0.2748, -0.2674,  ..., -0.4730, -0.4730, -0.4730],\n",
            "         [-0.2895, -0.2831, -0.2767,  ..., -0.4740, -0.4740, -0.4740],\n",
            "         [-0.2949, -0.2889, -0.2829,  ..., -0.4765, -0.4765, -0.4765]],\n",
            "\n",
            "        [[-0.1286, -0.1205, -0.1124,  ...,  0.1559,  0.1559,  0.1559],\n",
            "         [-0.1592, -0.1487, -0.1381,  ...,  0.1382,  0.1382,  0.1382],\n",
            "         [-0.1780, -0.1659, -0.1538,  ...,  0.1172,  0.1172,  0.1172],\n",
            "         ...,\n",
            "         [ 0.0289,  0.0338,  0.0387,  ..., -0.0838, -0.0838, -0.0838],\n",
            "         [ 0.0328,  0.0377,  0.0426,  ..., -0.0828, -0.0828, -0.0828],\n",
            "         [ 0.0368,  0.0417,  0.0466,  ..., -0.0838, -0.0838, -0.0838]],\n",
            "\n",
            "        [[-0.1725, -0.1745, -0.1765,  ..., -0.0319, -0.0319, -0.0319],\n",
            "         [-0.1951, -0.1951, -0.1951,  ..., -0.0760, -0.0760, -0.0760],\n",
            "         [-0.2100, -0.2086, -0.2071,  ..., -0.1152, -0.1152, -0.1152],\n",
            "         ...,\n",
            "         [-0.5149, -0.5118, -0.5087,  ..., -0.6137, -0.6137, -0.6137],\n",
            "         [-0.5112, -0.5082, -0.5052,  ..., -0.6098, -0.6098, -0.6098],\n",
            "         [-0.5087, -0.5060, -0.5033,  ..., -0.6074, -0.6074, -0.6074]]]) tensor(1)\n",
            "image size: torch.Size([3, 227, 227])\n"
          ]
        }
      ]
    },
    {
      "cell_type": "markdown",
      "source": [
        "GPU 설정을 해준다."
      ],
      "metadata": {
        "id": "T-7NloJ-j6iE"
      }
    },
    {
      "cell_type": "code",
      "source": [
        "import torch\n",
        "\n",
        "device = 'cuda' if torch.cuda.is_available() else 'cpu'\n",
        "torch.manual_seed(1)\n",
        "if device == 'cuda': torch.cuda.manual_seed_all(1)"
      ],
      "metadata": {
        "id": "Gkh_dRqplFND"
      },
      "execution_count": 8,
      "outputs": []
    },
    {
      "cell_type": "markdown",
      "source": [
        "AlexNet model을 제작한다."
      ],
      "metadata": {
        "id": "M_WNG_itlII4"
      }
    },
    {
      "cell_type": "code",
      "source": [
        "import torch.nn as nn\n",
        "\n",
        "class AlexNet(nn.Module):\n",
        "  def __init__(self):\n",
        "    super().__init__()\n",
        "    \n",
        "    self.conv_layer = nn.Sequential(\n",
        "        # First Conv & Pooling Layer (Input: 3*227*227 / using LRN)\n",
        "        nn.Conv2d(3, 96, kernel_size=11, stride=4, padding=0),\n",
        "        nn.ReLU(),\n",
        "        nn.LocalResponseNorm(size=5, alpha=0.0001, beta=0.75, k=2),\n",
        "        nn.MaxPool2d(kernel_size=3, stride=2),\n",
        "\n",
        "        # Second Conv & Pooling layer (Input: 96*27*27 / using LRN)\n",
        "        nn.Conv2d(96, 256, kernel_size=5, stride=1, padding=2),\n",
        "        nn.ReLU(),\n",
        "        nn.LocalResponseNorm(size=5, alpha=0.0001, beta=0.75, k=2),\n",
        "        nn.MaxPool2d(kernel_size=3, stride=2),\n",
        "        # Output: 256*13*13\n",
        "        \n",
        "        # Third~Fifth Layer (Only Conv and ReLU)\n",
        "        nn.Conv2d(256, 384, 3, padding=1),  \n",
        "        nn.ReLU(),\n",
        "        nn.Conv2d(384, 384, 3, padding=1),  \n",
        "        nn.ReLU(),\n",
        "        nn.Conv2d(384, 256, 3, padding=1),  \n",
        "        nn.ReLU(),\n",
        "        nn.MaxPool2d(kernel_size=3, stride=2)\n",
        "        # Output: 256*6*6\n",
        "    )\n",
        "\n",
        "    self.fc_layer = nn.Sequential(\n",
        "        # using Dropout\n",
        "        nn.Dropout(p=0.5),\n",
        "        nn.Linear((256*6*6), 4096),\n",
        "        nn.ReLU(),\n",
        "        \n",
        "        nn.Dropout(p=0.5),\n",
        "        nn.Linear(4096, 4096),\n",
        "        nn.ReLU(),\n",
        "        # 10 is the number of classes\n",
        "        nn.Linear(4096, 10)\n",
        "    )\n",
        "\n",
        "  def forward(self, x):\n",
        "    out = self.conv_layer(x)\n",
        "    out = out.view(-1, 256*6*6)\n",
        "    out = self.fc_layer(out)\n",
        "    return out\n",
        "  \n",
        "model = AlexNet().to(device)"
      ],
      "metadata": {
        "id": "WpFF5YCrLIZy"
      },
      "execution_count": 9,
      "outputs": []
    },
    {
      "cell_type": "code",
      "source": [
        "import torch.optim as optim\n",
        "from tqdm.auto import tqdm\n",
        "\n",
        "learning_rate = 1e-2\n",
        "momentum = 0.9\n",
        "weight_decay = 0.0005\n",
        "\n",
        "optimizer = optim.SGD(model.parameters(), lr=learning_rate, momentum=momentum, weight_decay=weight_decay)\n",
        "criterion = nn.CrossEntropyLoss()\n",
        "\n",
        "model.train()\n",
        "epochs = 30\n",
        "total_batch = len(train_loader)\n",
        "for epoch in tqdm(range(epochs)):\n",
        "  avg_cost = 0\n",
        "  for x, y in train_loader:\n",
        "    x = x.to(device)\n",
        "    y = y.to(device)\n",
        "\n",
        "    hypothesis = model(x)\n",
        "    cost = criterion(hypothesis, y)\n",
        "\n",
        "    optimizer.zero_grad()\n",
        "    cost.backward()\n",
        "    optimizer.step()\n",
        "\n",
        "    avg_cost += cost/total_batch\n",
        "  \n",
        "  print('[Epoch: {:>4}] cost = {:>.9}'.format(epoch + 1, avg_cost))"
      ],
      "metadata": {
        "id": "VWqfRBdLgA6B",
        "colab": {
          "base_uri": "https://localhost:8080/",
          "height": 600,
          "referenced_widgets": [
            "9d90478853424bbd81a26aa14fb94bc4",
            "9497efbe184a4ab486cd478660f50258",
            "eca33707e84946d091fcb02dd510484a",
            "c7c8b2ddc67247a4a1f1083c8d213756",
            "824d2be4396349288df3ad6e0dca758d",
            "2b923ece33e1403c9af7afed76398ec9",
            "5bea4970435c411b886837093804a661",
            "26314fbfc8ba4f25b334d87370aa5c17",
            "267dc76ad496400a86e3a8b54dfa8e3c",
            "314ebf8c81a140ceb4044a913a9760d2",
            "11165d291c934d79895e61347f01b410"
          ]
        },
        "outputId": "48e763ed-9f36-4d0a-a3a4-143f1dfb8c38"
      },
      "execution_count": 10,
      "outputs": [
        {
          "output_type": "display_data",
          "data": {
            "application/vnd.jupyter.widget-view+json": {
              "model_id": "9d90478853424bbd81a26aa14fb94bc4",
              "version_minor": 0,
              "version_major": 2
            },
            "text/plain": [
              "  0%|          | 0/30 [00:00<?, ?it/s]"
            ]
          },
          "metadata": {}
        },
        {
          "output_type": "stream",
          "name": "stdout",
          "text": [
            "[Epoch:    1] cost = 2.30263853\n",
            "[Epoch:    2] cost = 2.30257511\n",
            "[Epoch:    3] cost = 2.30242682\n",
            "[Epoch:    4] cost = 2.30209684\n",
            "[Epoch:    5] cost = 2.30107141\n",
            "[Epoch:    6] cost = 2.29011297\n",
            "[Epoch:    7] cost = 2.0791769\n",
            "[Epoch:    8] cost = 1.88141537\n",
            "[Epoch:    9] cost = 1.70846713\n",
            "[Epoch:   10] cost = 1.60370219\n",
            "[Epoch:   11] cost = 1.49882841\n",
            "[Epoch:   12] cost = 1.43083096\n",
            "[Epoch:   13] cost = 1.37867963\n",
            "[Epoch:   14] cost = 1.32554245\n",
            "[Epoch:   15] cost = 1.27198792\n",
            "[Epoch:   16] cost = 1.22684884\n",
            "[Epoch:   17] cost = 1.18115866\n",
            "[Epoch:   18] cost = 1.12781942\n",
            "[Epoch:   19] cost = 1.0690726\n",
            "[Epoch:   20] cost = 1.03476226\n",
            "[Epoch:   21] cost = 0.987695515\n",
            "[Epoch:   22] cost = 0.94591397\n",
            "[Epoch:   23] cost = 0.911079824\n",
            "[Epoch:   24] cost = 0.863293827\n",
            "[Epoch:   25] cost = 0.826832592\n",
            "[Epoch:   26] cost = 0.820562541\n",
            "[Epoch:   27] cost = 0.766789973\n",
            "[Epoch:   28] cost = 0.74353689\n",
            "[Epoch:   29] cost = 0.72291398\n",
            "[Epoch:   30] cost = 0.687450588\n"
          ]
        }
      ]
    },
    {
      "cell_type": "markdown",
      "source": [
        "모델의 성능을 확인한다.\n"
      ],
      "metadata": {
        "id": "pJ40DK2lrRgF"
      }
    },
    {
      "cell_type": "code",
      "source": [
        "model.eval()\n",
        "\n",
        "with torch.no_grad():\n",
        "  total_test = torch.Tensor([len(test_data)]).to(device)\n",
        "  accuracy = torch.Tensor([0]).to(device)\n",
        "  for x, y in test_loader:\n",
        "    x = x.to(device)\n",
        "    y = y.to(device)\n",
        "    \n",
        "    prediction = model(x)\n",
        "    correct_prediction = torch.argmax(prediction, 1) == y\n",
        "    accuracy += correct_prediction.long().sum() / total_test\n",
        "  print('Accuracy:', accuracy.item())"
      ],
      "metadata": {
        "colab": {
          "base_uri": "https://localhost:8080/"
        },
        "id": "7bZ2YobAp8RE",
        "outputId": "c5db011e-8592-4e29-e481-ea63e7a4d0ae"
      },
      "execution_count": 11,
      "outputs": [
        {
          "output_type": "stream",
          "name": "stdout",
          "text": [
            "Accuracy: 0.7683000564575195\n"
          ]
        }
      ]
    }
  ]
}