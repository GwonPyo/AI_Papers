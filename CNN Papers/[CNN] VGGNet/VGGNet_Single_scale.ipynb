{
  "nbformat": 4,
  "nbformat_minor": 0,
  "metadata": {
    "colab": {
      "name": "VGGNet_Single_scale.ipynb",
      "provenance": [],
      "collapsed_sections": []
    },
    "kernelspec": {
      "name": "python3",
      "display_name": "Python 3"
    },
    "language_info": {
      "name": "python"
    },
    "accelerator": "GPU",
    "widgets": {
      "application/vnd.jupyter.widget-state+json": {
        "9e8d3f57681d417b88af043b17a1ef27": {
          "model_module": "@jupyter-widgets/controls",
          "model_name": "HBoxModel",
          "model_module_version": "1.5.0",
          "state": {
            "_view_name": "HBoxView",
            "_dom_classes": [],
            "_model_name": "HBoxModel",
            "_view_module": "@jupyter-widgets/controls",
            "_model_module_version": "1.5.0",
            "_view_count": null,
            "_view_module_version": "1.5.0",
            "box_style": "",
            "layout": "IPY_MODEL_ed4dc35a998e4f639c3206aabf48c0d2",
            "_model_module": "@jupyter-widgets/controls",
            "children": [
              "IPY_MODEL_34ae9087c7984488af546fc951a55292",
              "IPY_MODEL_9128b982769c47698ce48452688a3735",
              "IPY_MODEL_5aadd44cb3ec4fadb3986396363dab44"
            ]
          }
        },
        "ed4dc35a998e4f639c3206aabf48c0d2": {
          "model_module": "@jupyter-widgets/base",
          "model_name": "LayoutModel",
          "model_module_version": "1.2.0",
          "state": {
            "_view_name": "LayoutView",
            "grid_template_rows": null,
            "right": null,
            "justify_content": null,
            "_view_module": "@jupyter-widgets/base",
            "overflow": null,
            "_model_module_version": "1.2.0",
            "_view_count": null,
            "flex_flow": null,
            "width": null,
            "min_width": null,
            "border": null,
            "align_items": null,
            "bottom": null,
            "_model_module": "@jupyter-widgets/base",
            "top": null,
            "grid_column": null,
            "overflow_y": null,
            "overflow_x": null,
            "grid_auto_flow": null,
            "grid_area": null,
            "grid_template_columns": null,
            "flex": null,
            "_model_name": "LayoutModel",
            "justify_items": null,
            "grid_row": null,
            "max_height": null,
            "align_content": null,
            "visibility": null,
            "align_self": null,
            "height": null,
            "min_height": null,
            "padding": null,
            "grid_auto_rows": null,
            "grid_gap": null,
            "max_width": null,
            "order": null,
            "_view_module_version": "1.2.0",
            "grid_template_areas": null,
            "object_position": null,
            "object_fit": null,
            "grid_auto_columns": null,
            "margin": null,
            "display": null,
            "left": null
          }
        },
        "34ae9087c7984488af546fc951a55292": {
          "model_module": "@jupyter-widgets/controls",
          "model_name": "HTMLModel",
          "model_module_version": "1.5.0",
          "state": {
            "_view_name": "HTMLView",
            "style": "IPY_MODEL_9e4e5b727c7948e988ecb832c06a5a9e",
            "_dom_classes": [],
            "description": "",
            "_model_name": "HTMLModel",
            "placeholder": "​",
            "_view_module": "@jupyter-widgets/controls",
            "_model_module_version": "1.5.0",
            "value": "100%",
            "_view_count": null,
            "_view_module_version": "1.5.0",
            "description_tooltip": null,
            "_model_module": "@jupyter-widgets/controls",
            "layout": "IPY_MODEL_22246c03279947de8554083ceee36a7c"
          }
        },
        "9128b982769c47698ce48452688a3735": {
          "model_module": "@jupyter-widgets/controls",
          "model_name": "FloatProgressModel",
          "model_module_version": "1.5.0",
          "state": {
            "_view_name": "ProgressView",
            "style": "IPY_MODEL_f0b887d19b54428b8e15468bb78a4c32",
            "_dom_classes": [],
            "description": "",
            "_model_name": "FloatProgressModel",
            "bar_style": "success",
            "max": 5,
            "_view_module": "@jupyter-widgets/controls",
            "_model_module_version": "1.5.0",
            "value": 5,
            "_view_count": null,
            "_view_module_version": "1.5.0",
            "orientation": "horizontal",
            "min": 0,
            "description_tooltip": null,
            "_model_module": "@jupyter-widgets/controls",
            "layout": "IPY_MODEL_c7dc4e9ecb294c7ea890c3881a202d98"
          }
        },
        "5aadd44cb3ec4fadb3986396363dab44": {
          "model_module": "@jupyter-widgets/controls",
          "model_name": "HTMLModel",
          "model_module_version": "1.5.0",
          "state": {
            "_view_name": "HTMLView",
            "style": "IPY_MODEL_6c36359322294ae8bbd8771faed022bd",
            "_dom_classes": [],
            "description": "",
            "_model_name": "HTMLModel",
            "placeholder": "​",
            "_view_module": "@jupyter-widgets/controls",
            "_model_module_version": "1.5.0",
            "value": " 5/5 [2:35:01&lt;00:00, 1860.32s/it]",
            "_view_count": null,
            "_view_module_version": "1.5.0",
            "description_tooltip": null,
            "_model_module": "@jupyter-widgets/controls",
            "layout": "IPY_MODEL_43bdfae2957548ecaa10bd9d309ecba7"
          }
        },
        "9e4e5b727c7948e988ecb832c06a5a9e": {
          "model_module": "@jupyter-widgets/controls",
          "model_name": "DescriptionStyleModel",
          "model_module_version": "1.5.0",
          "state": {
            "_view_name": "StyleView",
            "_model_name": "DescriptionStyleModel",
            "description_width": "",
            "_view_module": "@jupyter-widgets/base",
            "_model_module_version": "1.5.0",
            "_view_count": null,
            "_view_module_version": "1.2.0",
            "_model_module": "@jupyter-widgets/controls"
          }
        },
        "22246c03279947de8554083ceee36a7c": {
          "model_module": "@jupyter-widgets/base",
          "model_name": "LayoutModel",
          "model_module_version": "1.2.0",
          "state": {
            "_view_name": "LayoutView",
            "grid_template_rows": null,
            "right": null,
            "justify_content": null,
            "_view_module": "@jupyter-widgets/base",
            "overflow": null,
            "_model_module_version": "1.2.0",
            "_view_count": null,
            "flex_flow": null,
            "width": null,
            "min_width": null,
            "border": null,
            "align_items": null,
            "bottom": null,
            "_model_module": "@jupyter-widgets/base",
            "top": null,
            "grid_column": null,
            "overflow_y": null,
            "overflow_x": null,
            "grid_auto_flow": null,
            "grid_area": null,
            "grid_template_columns": null,
            "flex": null,
            "_model_name": "LayoutModel",
            "justify_items": null,
            "grid_row": null,
            "max_height": null,
            "align_content": null,
            "visibility": null,
            "align_self": null,
            "height": null,
            "min_height": null,
            "padding": null,
            "grid_auto_rows": null,
            "grid_gap": null,
            "max_width": null,
            "order": null,
            "_view_module_version": "1.2.0",
            "grid_template_areas": null,
            "object_position": null,
            "object_fit": null,
            "grid_auto_columns": null,
            "margin": null,
            "display": null,
            "left": null
          }
        },
        "f0b887d19b54428b8e15468bb78a4c32": {
          "model_module": "@jupyter-widgets/controls",
          "model_name": "ProgressStyleModel",
          "model_module_version": "1.5.0",
          "state": {
            "_view_name": "StyleView",
            "_model_name": "ProgressStyleModel",
            "description_width": "",
            "_view_module": "@jupyter-widgets/base",
            "_model_module_version": "1.5.0",
            "_view_count": null,
            "_view_module_version": "1.2.0",
            "bar_color": null,
            "_model_module": "@jupyter-widgets/controls"
          }
        },
        "c7dc4e9ecb294c7ea890c3881a202d98": {
          "model_module": "@jupyter-widgets/base",
          "model_name": "LayoutModel",
          "model_module_version": "1.2.0",
          "state": {
            "_view_name": "LayoutView",
            "grid_template_rows": null,
            "right": null,
            "justify_content": null,
            "_view_module": "@jupyter-widgets/base",
            "overflow": null,
            "_model_module_version": "1.2.0",
            "_view_count": null,
            "flex_flow": null,
            "width": null,
            "min_width": null,
            "border": null,
            "align_items": null,
            "bottom": null,
            "_model_module": "@jupyter-widgets/base",
            "top": null,
            "grid_column": null,
            "overflow_y": null,
            "overflow_x": null,
            "grid_auto_flow": null,
            "grid_area": null,
            "grid_template_columns": null,
            "flex": null,
            "_model_name": "LayoutModel",
            "justify_items": null,
            "grid_row": null,
            "max_height": null,
            "align_content": null,
            "visibility": null,
            "align_self": null,
            "height": null,
            "min_height": null,
            "padding": null,
            "grid_auto_rows": null,
            "grid_gap": null,
            "max_width": null,
            "order": null,
            "_view_module_version": "1.2.0",
            "grid_template_areas": null,
            "object_position": null,
            "object_fit": null,
            "grid_auto_columns": null,
            "margin": null,
            "display": null,
            "left": null
          }
        },
        "6c36359322294ae8bbd8771faed022bd": {
          "model_module": "@jupyter-widgets/controls",
          "model_name": "DescriptionStyleModel",
          "model_module_version": "1.5.0",
          "state": {
            "_view_name": "StyleView",
            "_model_name": "DescriptionStyleModel",
            "description_width": "",
            "_view_module": "@jupyter-widgets/base",
            "_model_module_version": "1.5.0",
            "_view_count": null,
            "_view_module_version": "1.2.0",
            "_model_module": "@jupyter-widgets/controls"
          }
        },
        "43bdfae2957548ecaa10bd9d309ecba7": {
          "model_module": "@jupyter-widgets/base",
          "model_name": "LayoutModel",
          "model_module_version": "1.2.0",
          "state": {
            "_view_name": "LayoutView",
            "grid_template_rows": null,
            "right": null,
            "justify_content": null,
            "_view_module": "@jupyter-widgets/base",
            "overflow": null,
            "_model_module_version": "1.2.0",
            "_view_count": null,
            "flex_flow": null,
            "width": null,
            "min_width": null,
            "border": null,
            "align_items": null,
            "bottom": null,
            "_model_module": "@jupyter-widgets/base",
            "top": null,
            "grid_column": null,
            "overflow_y": null,
            "overflow_x": null,
            "grid_auto_flow": null,
            "grid_area": null,
            "grid_template_columns": null,
            "flex": null,
            "_model_name": "LayoutModel",
            "justify_items": null,
            "grid_row": null,
            "max_height": null,
            "align_content": null,
            "visibility": null,
            "align_self": null,
            "height": null,
            "min_height": null,
            "padding": null,
            "grid_auto_rows": null,
            "grid_gap": null,
            "max_width": null,
            "order": null,
            "_view_module_version": "1.2.0",
            "grid_template_areas": null,
            "object_position": null,
            "object_fit": null,
            "grid_auto_columns": null,
            "margin": null,
            "display": null,
            "left": null
          }
        }
      }
    }
  },
  "cells": [
    {
      "cell_type": "markdown",
      "source": [
        "먼저 필요한 도구들을 불러오자."
      ],
      "metadata": {
        "id": "F322NFcOZeIW"
      }
    },
    {
      "cell_type": "code",
      "execution_count": 1,
      "metadata": {
        "id": "bLecGH-hZqo9"
      },
      "outputs": [],
      "source": [
        "import torch\n",
        "import torch.nn as nn\n",
        "import torch.optim as optim\n",
        "import torchvision.transforms as transforms\n",
        "import torchvision.datasets as dsets\n",
        "from torch.utils.data import DataLoader, SubsetRandomSampler"
      ]
    },
    {
      "cell_type": "markdown",
      "source": [
        "transform을 생성하고 각각의 CIFAR10 데이터셋을 불러온다."
      ],
      "metadata": {
        "id": "hs7MHIuEc93R"
      }
    },
    {
      "cell_type": "code",
      "source": [
        "train_transform = transforms.Compose([transforms.ToTensor(),\n",
        "                                      transforms.Resize((256, 256)),\n",
        "                                      transforms.RandomCrop(224),\n",
        "                                      transforms.Normalize((0.5, 0.5, 0.5), (0.5, 0.5, 0.5))])\n",
        "\n",
        "test_transform = transforms.Compose([transforms.ToTensor(),\n",
        "                                     transforms.Resize((224, 224)),\n",
        "                                     transforms.Normalize((0.5, 0.5, 0.5), (0.5, 0.5, 0.5))])\n"
      ],
      "metadata": {
        "id": "wGbJFBLcau70"
      },
      "execution_count": 2,
      "outputs": []
    },
    {
      "cell_type": "code",
      "source": [
        "train_data = dsets.CIFAR10(root='CIFAR10',\n",
        "                           train=True,\n",
        "                           transform=train_transform,\n",
        "                           download=True)\n",
        "\n",
        "test_data = dsets.CIFAR10(root='CiFAR10',\n",
        "                          train=False,\n",
        "                          transform=test_transform,\n",
        "                          download=True)"
      ],
      "metadata": {
        "colab": {
          "base_uri": "https://localhost:8080/"
        },
        "id": "D2YAz0-uZzgB",
        "outputId": "bc3eb0c3-63e4-4e46-ab1b-15c0c8194b11"
      },
      "execution_count": 3,
      "outputs": [
        {
          "output_type": "stream",
          "name": "stdout",
          "text": [
            "Files already downloaded and verified\n",
            "Files already downloaded and verified\n"
          ]
        }
      ]
    },
    {
      "cell_type": "markdown",
      "source": [
        "데이터 구조를 확인하자."
      ],
      "metadata": {
        "id": "EMdPKGMhg7s-"
      }
    },
    {
      "cell_type": "code",
      "source": [
        "print(f'train image 개수: {len(train_data)}')\n",
        "print(f'test image 개수: {len(test_data)}')"
      ],
      "metadata": {
        "id": "_wwyYsR8c0Lx",
        "colab": {
          "base_uri": "https://localhost:8080/"
        },
        "outputId": "e76cf65a-90f9-42ab-ad9c-b7719766fd21"
      },
      "execution_count": 4,
      "outputs": [
        {
          "output_type": "stream",
          "name": "stdout",
          "text": [
            "train image 개수: 50000\n",
            "test image 개수: 10000\n"
          ]
        }
      ]
    },
    {
      "cell_type": "code",
      "source": [
        "# 각 sample의 구조\n",
        "train_data[0][0]"
      ],
      "metadata": {
        "colab": {
          "base_uri": "https://localhost:8080/"
        },
        "id": "AsWs-GxGg3tC",
        "outputId": "9f5e22c6-d4ef-4451-bc62-807684218b25"
      },
      "execution_count": 5,
      "outputs": [
        {
          "output_type": "execute_result",
          "data": {
            "text/plain": [
              "tensor([[[-0.7608, -0.7608, -0.7608,  ...,  0.0584,  0.0513,  0.0443],\n",
              "         [-0.7529, -0.7529, -0.7529,  ...,  0.0536,  0.0475,  0.0413],\n",
              "         [-0.7451, -0.7451, -0.7451,  ...,  0.0489,  0.0436,  0.0383],\n",
              "         ...,\n",
              "         [ 0.4044,  0.4044,  0.4044,  ..., -0.3494, -0.2635, -0.1776],\n",
              "         [ 0.4015,  0.4015,  0.4015,  ..., -0.2910, -0.2088, -0.1265],\n",
              "         [ 0.3985,  0.3985,  0.3985,  ..., -0.2325, -0.1540, -0.0754]],\n",
              "\n",
              "        [[-0.8064, -0.8064, -0.8064,  ..., -0.2547, -0.2600, -0.2654],\n",
              "         [-0.8054, -0.8054, -0.8054,  ..., -0.2640, -0.2684, -0.2728],\n",
              "         [-0.8044, -0.8044, -0.8044,  ..., -0.2733, -0.2767, -0.2801],\n",
              "         ...,\n",
              "         [ 0.1025,  0.1025,  0.1025,  ..., -0.5844, -0.5054, -0.4264],\n",
              "         [ 0.1074,  0.1074,  0.1074,  ..., -0.5211, -0.4454, -0.3698],\n",
              "         [ 0.1123,  0.1123,  0.1123,  ..., -0.4578, -0.3854, -0.3131]],\n",
              "\n",
              "        [[-0.8569, -0.8569, -0.8569,  ..., -0.5677, -0.5714, -0.5752],\n",
              "         [-0.8608, -0.8608, -0.8608,  ..., -0.5816, -0.5842, -0.5869],\n",
              "         [-0.8647, -0.8647, -0.8647,  ..., -0.5955, -0.5970, -0.5986],\n",
              "         ...,\n",
              "         [-0.1980, -0.1980, -0.1980,  ..., -0.7282, -0.6754, -0.6226],\n",
              "         [-0.1784, -0.1784, -0.1784,  ..., -0.6754, -0.6238, -0.5722],\n",
              "         [-0.1588, -0.1588, -0.1588,  ..., -0.6226, -0.5722, -0.5219]]])"
            ]
          },
          "metadata": {},
          "execution_count": 5
        }
      ]
    },
    {
      "cell_type": "code",
      "source": [
        "# 이미지 크기\n",
        "print(train_data[0][0].shape)"
      ],
      "metadata": {
        "colab": {
          "base_uri": "https://localhost:8080/"
        },
        "id": "fJiek0kBhDi4",
        "outputId": "036cb7c5-c0d6-45a6-93f3-12fe07467f68"
      },
      "execution_count": 6,
      "outputs": [
        {
          "output_type": "stream",
          "name": "stdout",
          "text": [
            "torch.Size([3, 224, 224])\n"
          ]
        }
      ]
    },
    {
      "cell_type": "markdown",
      "source": [
        "이미지를 몇 개 그래보자"
      ],
      "metadata": {
        "id": "D7F0KIulhNJJ"
      }
    },
    {
      "cell_type": "code",
      "source": [
        "import matplotlib.pyplot as plt\n",
        "import numpy as np\n",
        "fig, axs = plt.subplots(1, 5, figsize = (8, 2))\n",
        "\n",
        "for i in range(5):\n",
        "  img = train_data[i][0].numpy()\n",
        "  axs[i].imshow(np.transpose(img, (1, 2, 0)))\n",
        "  axs[i].axis('off')\n",
        "plt.show()"
      ],
      "metadata": {
        "colab": {
          "base_uri": "https://localhost:8080/",
          "height": 200
        },
        "id": "fg305QwdhePA",
        "outputId": "977a1577-18e7-4810-841d-953ce56e1fd6"
      },
      "execution_count": 7,
      "outputs": [
        {
          "output_type": "stream",
          "name": "stderr",
          "text": [
            "Clipping input data to the valid range for imshow with RGB data ([0..1] for floats or [0..255] for integers).\n",
            "Clipping input data to the valid range for imshow with RGB data ([0..1] for floats or [0..255] for integers).\n",
            "Clipping input data to the valid range for imshow with RGB data ([0..1] for floats or [0..255] for integers).\n",
            "Clipping input data to the valid range for imshow with RGB data ([0..1] for floats or [0..255] for integers).\n",
            "Clipping input data to the valid range for imshow with RGB data ([0..1] for floats or [0..255] for integers).\n"
          ]
        },
        {
          "output_type": "display_data",
          "data": {
            "image/png": "[encoded data removed]",
            "text/plain": [
              "<Figure size 576x144 with 5 Axes>"
            ]
          },
          "metadata": {
            "needs_background": "light"
          }
        }
      ]
    },
    {
      "cell_type": "markdown",
      "source": [
        "train, test datset의 dataloader를 생성하자."
      ],
      "metadata": {
        "id": "P_bJWlwWtT3h"
      }
    },
    {
      "cell_type": "code",
      "source": [
        "batch_size = 32\n",
        "train_loader = DataLoader(train_data, batch_size=batch_size, shuffle=True, drop_last=True)\n",
        "test_loader = DataLoader(test_data, batch_size=batch_size, shuffle=True, drop_last=True)"
      ],
      "metadata": {
        "id": "mD4APQ1utWnu"
      },
      "execution_count": 8,
      "outputs": []
    },
    {
      "cell_type": "code",
      "source": [
        "print(len(train_loader))"
      ],
      "metadata": {
        "colab": {
          "base_uri": "https://localhost:8080/"
        },
        "id": "k-ORELf7tps3",
        "outputId": "f8c94263-2720-4415-a32f-c8913f5c7fcd"
      },
      "execution_count": 9,
      "outputs": [
        {
          "output_type": "stream",
          "name": "stdout",
          "text": [
            "1562\n"
          ]
        }
      ]
    },
    {
      "cell_type": "markdown",
      "source": [
        " GPU 설정을 해주자."
      ],
      "metadata": {
        "id": "WfGrl6fPtsSB"
      }
    },
    {
      "cell_type": "code",
      "source": [
        "device = 'cuda' if torch.cuda.is_available() else 'cpu'\n",
        "torch.manual_seed(42)\n",
        "if device == 'cuda':\n",
        "  torch.cuda.manual_seed(42)\n",
        "  torch.cuda.manual_seed_all(42)"
      ],
      "metadata": {
        "id": "xXI3wqoRtx_9"
      },
      "execution_count": 10,
      "outputs": []
    },
    {
      "cell_type": "markdown",
      "source": [
        "모델을 설계하자."
      ],
      "metadata": {
        "id": "WaR_bPIvuO9N"
      }
    },
    {
      "cell_type": "code",
      "source": [
        "models_layer = {\n",
        "    'VGG11' : [64, 'M', 128, 'M', 256, 256, 'M', 512,512, 'M',512,512,'M'],\n",
        "    'VGG13' : [64, 64, 'M', 128, 128, 'M', 256, 256, 'M', 512,512, 'M', 512,512,'M'],\n",
        "    'VGG16' : [64, 64, 'M', 128, 128, 'M', 256, 256, 256, 'M', 512, 512, 512, 'M', 512, 512, 512,'M'],\n",
        "    'VGG19' : [64, 64, 'M', 128, 128, 'M', 256, 256, 256, 256, 'M', 512, 512, 512, 512, 'M', 512, 512, 512, 512, 'M']\n",
        "}"
      ],
      "metadata": {
        "id": "Iu1yn8sku0Le"
      },
      "execution_count": 11,
      "outputs": []
    },
    {
      "cell_type": "code",
      "source": [
        "class VGGNet(nn.Module): # 모델 구조 설계\n",
        "  def __init__(self, model, num_classes, init_weights):\n",
        "    super().__init__()\n",
        "    self.model = model\n",
        "    self.conv_layer = self.create_conv_layer(models_layer[self.model])\n",
        "\n",
        "    self.fc_layer = nn.Sequential(nn.Dropout(0.5),\n",
        "                                   nn.Linear(512*7*7, 4096),\n",
        "                                   nn.ReLU(),\n",
        "                                   nn.Dropout(0.5),\n",
        "                                   nn.Linear(4096, 4096),\n",
        "                                   nn.ReLU(),\n",
        "                                   nn.Linear(4096, num_classes))\n",
        "\n",
        "    if init_weights:\n",
        "      self.initialize_weights()\n",
        "\n",
        "  def forward(self, x):\n",
        "        x = self.conv_layer(x)\n",
        "        x = x.view(x.size(0), -1)\n",
        "        x = self.fc_layer(x)\n",
        "        return x\n",
        "\n",
        "  def initialize_weights(self):\n",
        "    for m in self.modules():\n",
        "        if isinstance(m, nn.Conv2d):\n",
        "          nn.init.kaiming_normal_(m.weight, mode='fan_in', nonlinearity='relu')\n",
        "          if m.bias is not None:\n",
        "            nn.init.constant_(m.bias, 0)\n",
        "        elif isinstance(m, nn.BatchNorm2d):\n",
        "          nn.init.constant_(m.weight, 1)\n",
        "          nn.init.constant_(m.bias, 0)\n",
        "        elif isinstance(m, nn.Linear):\n",
        "          nn.init.normal_(m.weight, 0, 0.01)\n",
        "          nn.init.constant_(m.bias, 0)\n",
        "\n",
        "  def create_conv_layer(self, layers):\n",
        "    result = []                       # conv_layer를 쌓아줄 리스트\n",
        "    in_channel = 3                    # 처음 입력 채널\n",
        "\n",
        "    for layer in layers:\n",
        "      if type(layer) == int:          # Conv Layer\n",
        "        out_channel = layer           \n",
        "        result += [nn.Conv2d(in_channel, out_channel, kernel_size=(3,3), stride=1, padding=1),\n",
        "                           nn.BatchNorm2d(out_channel),\n",
        "                           nn.ReLU()]\n",
        "        in_channel = layer\n",
        "      elif layer == 'M':\n",
        "        result += [nn.MaxPool2d(kernel_size=(2,2), stride=(2,2))]\n",
        "    \n",
        "    return nn.Sequential(*result)"
      ],
      "metadata": {
        "id": "wxJFPA2YuRc4"
      },
      "execution_count": 12,
      "outputs": []
    },
    {
      "cell_type": "code",
      "source": [
        "model = VGGNet('VGG16', 10, True).to(device) # 모델 선언"
      ],
      "metadata": {
        "id": "JtCLwThSwz0o"
      },
      "execution_count": 13,
      "outputs": []
    },
    {
      "cell_type": "markdown",
      "source": [
        "loss함수와 optimizer를 선언하자."
      ],
      "metadata": {
        "id": "JwYxEYyp7-P7"
      }
    },
    {
      "cell_type": "code",
      "source": [
        "learning_rate = 0.01\n",
        "momentum = 0.9\n",
        "weight_decay = 0.00005\n",
        "\n",
        "criterion = nn.CrossEntropyLoss()\n",
        "optimizer = optim.SGD(model.parameters(), lr=learning_rate, momentum=momentum, weight_decay=weight_decay)"
      ],
      "metadata": {
        "id": "5lb8weMl7-Ve"
      },
      "execution_count": 14,
      "outputs": []
    },
    {
      "cell_type": "markdown",
      "source": [
        "모델을 학습시키자. <br>\n",
        "학습이 너무 오래걸려서 epoch는 5회만 수행했다."
      ],
      "metadata": {
        "id": "AlV6WmGi-XOZ"
      }
    },
    {
      "cell_type": "code",
      "source": [
        "from tqdm.auto import tqdm\n",
        "model.train()\n",
        "epochs = 5\n",
        "total_batch = len(train_loader)\n",
        "for epoch in tqdm(range(epochs)):\n",
        "  avg_cost = 0\n",
        "  for x, y in train_loader:\n",
        "    x = x.to(device)\n",
        "    y = y.to(device)\n",
        "\n",
        "    hypothesis = model(x)\n",
        "    cost = criterion(hypothesis, y)\n",
        "\n",
        "    optimizer.zero_grad()\n",
        "    cost.backward()\n",
        "    optimizer.step()\n",
        "\n",
        "    avg_cost += cost/total_batch\n",
        "  \n",
        "  print('[Epoch: {:>4}] cost = {:>.9}'.format(epoch + 1, avg_cost))"
      ],
      "metadata": {
        "colab": {
          "base_uri": "https://localhost:8080/",
          "height": 141,
          "referenced_widgets": [
            "9e8d3f57681d417b88af043b17a1ef27",
            "ed4dc35a998e4f639c3206aabf48c0d2",
            "34ae9087c7984488af546fc951a55292",
            "9128b982769c47698ce48452688a3735",
            "5aadd44cb3ec4fadb3986396363dab44",
            "9e4e5b727c7948e988ecb832c06a5a9e",
            "22246c03279947de8554083ceee36a7c",
            "f0b887d19b54428b8e15468bb78a4c32",
            "c7dc4e9ecb294c7ea890c3881a202d98",
            "6c36359322294ae8bbd8771faed022bd",
            "43bdfae2957548ecaa10bd9d309ecba7"
          ]
        },
        "id": "lZL9_HG9-f3N",
        "outputId": "7f3d6236-4c40-4997-cd12-276528bc5f97"
      },
      "execution_count": 15,
      "outputs": [
        {
          "output_type": "display_data",
          "data": {
            "application/vnd.jupyter.widget-view+json": {
              "model_id": "9e8d3f57681d417b88af043b17a1ef27",
              "version_minor": 0,
              "version_major": 2
            },
            "text/plain": [
              "  0%|          | 0/5 [00:00<?, ?it/s]"
            ]
          },
          "metadata": {}
        },
        {
          "output_type": "stream",
          "name": "stdout",
          "text": [
            "[Epoch:    1] cost = 1.89593577\n",
            "[Epoch:    2] cost = 1.3779012\n",
            "[Epoch:    3] cost = 1.04593599\n",
            "[Epoch:    4] cost = 0.843697369\n",
            "[Epoch:    5] cost = 0.711792231\n"
          ]
        }
      ]
    },
    {
      "cell_type": "markdown",
      "source": [
        "학습한 모델을 평가하자"
      ],
      "metadata": {
        "id": "EHrzDeKfGJE1"
      }
    },
    {
      "cell_type": "code",
      "source": [
        "model.eval()\n",
        "\n",
        "with torch.no_grad():\n",
        "  accuracy = 0\n",
        "  for x, y in test_loader:\n",
        "    x = x.to(device)\n",
        "    y = y.to(device)\n",
        "    \n",
        "    prediction = model(x)\n",
        "    _, prediction = torch.max(prediction, 1)\n",
        "    correct_prediction = (prediction == y)\n",
        "    accuracy += correct_prediction.sum() / len(test_data)\n",
        "  print('Accuracy:', accuracy.item())"
      ],
      "metadata": {
        "id": "SLcqA3wyEmJD",
        "colab": {
          "base_uri": "https://localhost:8080/"
        },
        "outputId": "90edc493-9241-4f36-c171-ee7910030a55"
      },
      "execution_count": 20,
      "outputs": [
        {
          "output_type": "stream",
          "name": "stdout",
          "text": [
            "Accuracy: 0.7732999920845032\n"
          ]
        }
      ]
    },
    {
      "cell_type": "markdown",
      "source": [
        "## <strong> 참고 </strong>"
      ],
      "metadata": {
        "id": "ilhcrXpuArle"
      }
    },
    {
      "cell_type": "markdown",
      "source": [
        "<h3> <strong> 1. model.modules() </strong> </h3>"
      ],
      "metadata": {
        "id": "-euZ8k2eAwGs"
      }
    },
    {
      "cell_type": "markdown",
      "source": [
        "model의 modules 속성을 사용하면 model의 모든 층을 살펴볼 수 있으며 이를 이용해서 각각의 층을 초기화할 수 있다."
      ],
      "metadata": {
        "id": "K9M2o6JxBDkG"
      }
    },
    {
      "cell_type": "code",
      "source": [
        "vgg_11 = VGGNet('VGG11', 10, True)"
      ],
      "metadata": {
        "id": "dPeEc98VA7pT"
      },
      "execution_count": 23,
      "outputs": []
    },
    {
      "cell_type": "code",
      "source": [
        "for i in vgg_11.modules():\n",
        "  if isinstance(i, nn.Conv2d):\n",
        "    print(i)"
      ],
      "metadata": {
        "colab": {
          "base_uri": "https://localhost:8080/"
        },
        "id": "2lYrRJtpBKJV",
        "outputId": "19e4b013-87fb-4a04-bebc-de56a166dc23"
      },
      "execution_count": 24,
      "outputs": [
        {
          "output_type": "stream",
          "name": "stdout",
          "text": [
            "Conv2d(3, 64, kernel_size=(3, 3), stride=(1, 1), padding=(1, 1))\n",
            "Conv2d(64, 128, kernel_size=(3, 3), stride=(1, 1), padding=(1, 1))\n",
            "Conv2d(128, 256, kernel_size=(3, 3), stride=(1, 1), padding=(1, 1))\n",
            "Conv2d(256, 256, kernel_size=(3, 3), stride=(1, 1), padding=(1, 1))\n",
            "Conv2d(256, 512, kernel_size=(3, 3), stride=(1, 1), padding=(1, 1))\n",
            "Conv2d(512, 512, kernel_size=(3, 3), stride=(1, 1), padding=(1, 1))\n",
            "Conv2d(512, 512, kernel_size=(3, 3), stride=(1, 1), padding=(1, 1))\n",
            "Conv2d(512, 512, kernel_size=(3, 3), stride=(1, 1), padding=(1, 1))\n"
          ]
        }
      ]
    },
    {
      "cell_type": "code",
      "source": [
        "for i in vgg_11.modules():\n",
        "  if isinstance(i, nn.Linear):\n",
        "    print(i)"
      ],
      "metadata": {
        "colab": {
          "base_uri": "https://localhost:8080/"
        },
        "id": "DCE4vMHyBgih",
        "outputId": "08cff85b-50e4-4e32-90b6-40b14f3c7902"
      },
      "execution_count": 25,
      "outputs": [
        {
          "output_type": "stream",
          "name": "stdout",
          "text": [
            "Linear(in_features=25088, out_features=4096, bias=True)\n",
            "Linear(in_features=4096, out_features=4096, bias=True)\n",
            "Linear(in_features=4096, out_features=10, bias=True)\n"
          ]
        }
      ]
    },
    {
      "cell_type": "markdown",
      "source": [
        "<h3> <strong> 2. torch.nn.init의 몇몇 메소드 정리 </strong> </h3>\n",
        "\n",
        "* **torch.nn.init.constant_(tensor, val)** <br>\n",
        "Tensor를 val로 채워 넣는다.\n",
        "* **torch.nn.init.uniform_(tensor, a=0.0, b=1.0)** <br>\n",
        "Tensor를 uniform distribution (a, b)에서 값을 뽑아 채운다.\n",
        "* **torch.nn.init.kaiming_normal_(tensor, mode='fan_in', nonlinearity='leaky relu')** <br>\n",
        "mode로는 'fan_in' 혹은 'fan_out'을 사용할 수 있다. <br> 아래 수식에 맞는 std를 계산해 $(0, std^2)$에 맞는 distribution에서 값을 뽑는다. <br>\n",
        "$std = \\frac{gain}{\\sqrt{fan\\,mode}}$\n",
        "\n",
        "[torch.nn.init document 링크](https://pytorch.org/docs/stable/nn.init.html)"
      ],
      "metadata": {
        "id": "P6Lq8rKsCckR"
      }
    }
  ]
}